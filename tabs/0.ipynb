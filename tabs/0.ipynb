{
 "cells": [
  {
   "cell_type": "code",
   "execution_count": 14,
   "metadata": {},
   "outputs": [
    {
     "name": "stdout",
     "output_type": "stream",
     "text": [
      "* Running on local URL:  http://127.0.0.1:7873\n",
      "* To create a public link, set `share=True` in `launch()`.\n"
     ]
    },
    {
     "data": {
      "text/html": [
       "<div><iframe src=\"http://127.0.0.1:7873/\" width=\"100%\" height=\"500\" allow=\"autoplay; camera; microphone; clipboard-read; clipboard-write;\" frameborder=\"0\" allowfullscreen></iframe></div>"
      ],
      "text/plain": [
       "<IPython.core.display.HTML object>"
      ]
     },
     "metadata": {},
     "output_type": "display_data"
    }
   ],
   "source": [
    "import gradio as gr\n",
    "import numpy as np\n",
    "from PIL import Image, ImageColor\n",
    "import re\n",
    "\n",
    "def rgba_to_hex(rgba):\n",
    "    match = re.match(r'rgba?\\(([\\d.]+),\\s*([\\d.]+),\\s*([\\d.]+)', rgba)\n",
    "    if not match:\n",
    "        return \"Invalid color format\"\n",
    "    r, g, b = match.groups()\n",
    "    r, g, b = int(float(r)), int(float(g)), int(float(b))\n",
    "    return '#{:02x}{:02x}{:02x}'.format(r, g, b)\n",
    "\n",
    "def change_color(icon, color):\n",
    "\n",
    "    \"\"\"\n",
    "    Function that given an icon in .png format changes its color\n",
    "    Args:\n",
    "        icon: Icon whose color needs to be changed.\n",
    "        color: Chosen color with which to edit the input icon.\n",
    "    Returns:\n",
    "        edited_image: Edited icon.\n",
    "    \"\"\"\n",
    "    img = icon.convert(\"LA\")\n",
    "    img = img.convert(\"RGBA\")\n",
    "    image_np = np.array(icon)\n",
    "    _, _, _, alpha = image_np.T\n",
    "    mask = alpha > 0\n",
    "    color = rgba_to_hex(color)\n",
    "    image_np[..., :-1][mask.T] = ImageColor.getcolor(color, \"RGB\")\n",
    "    edited_image = Image.fromarray(image_np)\n",
    "    return edited_image\n",
    "\n",
    "inputs = [\n",
    "    gr.Image(label=\"icon\", type=\"pil\", image_mode=\"RGBA\"),\n",
    "    gr.ColorPicker(label=\"color\"),\n",
    "]\n",
    "outputs = gr.Image(label=\"colored icon\")\n",
    "\n",
    "demo = gr.Interface(\n",
    "    fn=change_color,\n",
    "    inputs=inputs,\n",
    "    outputs=outputs\n",
    ")\n",
    "\n",
    "if __name__ == \"__main__\":\n",
    "    demo.launch()\n"
   ]
  }
 ],
 "metadata": {
  "kernelspec": {
   "display_name": "occamlgs",
   "language": "python",
   "name": "python3"
  },
  "language_info": {
   "codemirror_mode": {
    "name": "ipython",
    "version": 3
   },
   "file_extension": ".py",
   "mimetype": "text/x-python",
   "name": "python",
   "nbconvert_exporter": "python",
   "pygments_lexer": "ipython3",
   "version": "3.10.16"
  }
 },
 "nbformat": 4,
 "nbformat_minor": 2
}
